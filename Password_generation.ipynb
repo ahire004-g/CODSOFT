{
  "nbformat": 4,
  "nbformat_minor": 0,
  "metadata": {
    "colab": {
      "provenance": [],
      "authorship_tag": "ABX9TyOJCCGMsxbudsmynhmGuA1O",
      "include_colab_link": true
    },
    "kernelspec": {
      "name": "python3",
      "display_name": "Python 3"
    },
    "language_info": {
      "name": "python"
    }
  },
  "cells": [
    {
      "cell_type": "markdown",
      "metadata": {
        "id": "view-in-github",
        "colab_type": "text"
      },
      "source": [
        "<a href=\"https://colab.research.google.com/github/ahire004-g/CODSOFT/blob/main/Password_generation.ipynb\" target=\"_parent\"><img src=\"https://colab.research.google.com/assets/colab-badge.svg\" alt=\"Open In Colab\"/></a>"
      ]
    },
    {
      "cell_type": "code",
      "execution_count": null,
      "metadata": {
        "id": "1eYzPVhi_QP6"
      },
      "outputs": [],
      "source": [
        "#password generator"
      ]
    },
    {
      "cell_type": "code",
      "source": [
        "#importing modules\n",
        "import string\n",
        "import random\n",
        "\n",
        "#prompting the letters,digits and special characters\n",
        "s1 = string.ascii_letters   #A-Z and a-z\n",
        "s2 = string.punctuation     #spcl char @,!,etc\n",
        "s3 = string.digits           #0-9\n",
        "\n",
        "#making the empty list and extending the characters in it\n",
        "s = []\n",
        "s.extend(list(s1))\n",
        "s.extend(list(s2))\n",
        "s.extend(list(s3))\n",
        "random.shuffle(s)       #shuffle function is used for list\n",
        "\n",
        "P = int(input(\"Enter the number of characters you need: \"))\n",
        "print(\"\".join(s[0:P]))\n",
        "\n",
        "\n"
      ],
      "metadata": {
        "id": "Js3H1f4Q0OS1"
      },
      "execution_count": null,
      "outputs": []
    }
  ]
}